{
  "nbformat": 4,
  "nbformat_minor": 0,
  "metadata": {
    "kernelspec": {
      "display_name": "Python 3",
      "language": "python",
      "name": "python3"
    },
    "language_info": {
      "codemirror_mode": {
        "name": "ipython",
        "version": 3
      },
      "file_extension": ".py",
      "mimetype": "text/x-python",
      "name": "python",
      "nbconvert_exporter": "python",
      "pygments_lexer": "ipython3",
      "version": "3.6.5"
    },
    "colab": {
      "name": "ML Project.ipynb",
      "provenance": [],
      "collapsed_sections": []
    }
  },
  "cells": [
    {
      "cell_type": "code",
      "metadata": {
        "colab": {
          "base_uri": "https://localhost:8080/"
        },
        "id": "jQQARZt8JPfN",
        "outputId": "b924fc41-d50d-4056-a399-4af22d91857e"
      },
      "source": [
        "from google.colab import drive\n",
        "drive.mount('/content/drive')"
      ],
      "execution_count": null,
      "outputs": [
        {
          "output_type": "stream",
          "text": [
            "Drive already mounted at /content/drive; to attempt to forcibly remount, call drive.mount(\"/content/drive\", force_remount=True).\n"
          ],
          "name": "stdout"
        }
      ]
    },
    {
      "cell_type": "code",
      "metadata": {
        "colab": {
          "base_uri": "https://localhost:8080/"
        },
        "id": "gWQ-8q9VH7x0",
        "outputId": "ebe36b3f-45b5-49c3-c8fd-27e4c60a647a"
      },
      "source": [
        "# Import necessary libraries\n",
        "!pwd\n",
        "%cd drive/MyDrive/ML\\ Project\n",
        "import numpy as np\n",
        "import pandas as pd\n",
        "import matplotlib.pyplot as plt\n"
      ],
      "execution_count": null,
      "outputs": [
        {
          "output_type": "stream",
          "text": [
            "/content/drive/My Drive/ML Project\n",
            "[Errno 2] No such file or directory: 'drive/MyDrive/ML Project'\n",
            "/content/drive/MyDrive/ML Project\n"
          ],
          "name": "stdout"
        }
      ]
    },
    {
      "cell_type": "code",
      "metadata": {
        "id": "lRo4rZYoH7x0"
      },
      "source": [
        "% matplotlib inline\n",
        "\n",
        "# The above command sets the backend of matplotlib to the 'inline' backend. \n",
        "# It means the output of plotting commands is displayed inline."
      ],
      "execution_count": null,
      "outputs": []
    },
    {
      "cell_type": "code",
      "metadata": {
        "id": "D9sEZU6sH7x1"
      },
      "source": [
        "# Import the data\n",
        "\n",
        "url = \"./SALES.csv\"\n",
        "df = pd.read_csv(url, header=None)"
      ],
      "execution_count": null,
      "outputs": []
    },
    {
      "cell_type": "code",
      "metadata": {
        "colab": {
          "base_uri": "https://localhost:8080/"
        },
        "id": "p--6gNjBH7x2",
        "outputId": "d69ba0d8-02a2-4f17-b8c5-1b60206bb1c9"
      },
      "source": [
        "# Exploratory data analysis\n",
        "\n",
        "# View the dimensions of df\n",
        "\n",
        "print(df.shape)\n",
        "print(df)"
      ],
      "execution_count": null,
      "outputs": [
        {
          "output_type": "stream",
          "text": [
            "(36, 2)\n",
            "    Sales  Advertising\n",
            "0    12.0           15\n",
            "1    20.5           16\n",
            "2    21.0           18\n",
            "3    15.0           27\n",
            "4    15.3           21\n",
            "5    23.5           49\n",
            "6    24.5           21\n",
            "7    21.3           22\n",
            "8    23.5           28\n",
            "9    28.0           36\n",
            "10   24.0           40\n",
            "11   15.5            3\n",
            "12   17.3           21\n",
            "13   25.3           29\n",
            "14   25.0           62\n",
            "15   36.5           65\n",
            "16   36.5           46\n",
            "17   29.6           44\n",
            "18   30.5           33\n",
            "19   28.0           62\n",
            "20   26.0           22\n",
            "21   21.5           12\n",
            "22   19.7           24\n",
            "23   19.0            3\n",
            "24   16.0            5\n",
            "25   20.7           14\n",
            "26   26.5           36\n",
            "27   30.6           40\n",
            "28   32.3           49\n",
            "29   29.5            7\n",
            "30   28.3           52\n",
            "31   31.3           65\n",
            "32   32.3           17\n",
            "33   26.4            5\n",
            "34   23.4           17\n",
            "35   16.4            1\n"
          ],
          "name": "stdout"
        }
      ]
    },
    {
      "cell_type": "code",
      "metadata": {
        "colab": {
          "base_uri": "https://localhost:8080/"
        },
        "id": "kWY2ThEcH7x3",
        "outputId": "cfdcb669-3239-4493-fa93-25867ef1641e"
      },
      "source": [
        "# View the top 5 rows of df\n",
        "\n",
        "print(df.head())"
      ],
      "execution_count": null,
      "outputs": [
        {
          "output_type": "stream",
          "text": [
            "      0   1\n",
            "0  12.0  15\n",
            "1  20.5  16\n",
            "2  21.0  18\n",
            "3  15.0  27\n",
            "4  15.3  21\n"
          ],
          "name": "stdout"
        }
      ]
    },
    {
      "cell_type": "code",
      "metadata": {
        "id": "peLhb92MH7x4"
      },
      "source": [
        "# Rename columns of df dataframe\n",
        "\n",
        "df.columns = ['Sales', 'Advertising']"
      ],
      "execution_count": null,
      "outputs": []
    },
    {
      "cell_type": "code",
      "metadata": {
        "id": "avIVs1UHH7x4",
        "colab": {
          "base_uri": "https://localhost:8080/"
        },
        "outputId": "71cbe1a3-3aa4-441f-8f4e-23fe45294b42"
      },
      "source": [
        "# View the top 5 rows of df with column names renamed\n",
        "\n",
        "print(df.head())"
      ],
      "execution_count": null,
      "outputs": [
        {
          "output_type": "stream",
          "text": [
            "   Sales  Advertising\n",
            "0   12.0           15\n",
            "1   20.5           16\n",
            "2   21.0           18\n",
            "3   15.0           27\n",
            "4   15.3           21\n"
          ],
          "name": "stdout"
        }
      ]
    },
    {
      "cell_type": "code",
      "metadata": {
        "id": "UommPAYOH7x5",
        "colab": {
          "base_uri": "https://localhost:8080/"
        },
        "outputId": "db203791-987a-4d0b-9589-41f9dc5c494a"
      },
      "source": [
        "# View dataframe summary\n",
        "\n",
        "print(df.info())"
      ],
      "execution_count": null,
      "outputs": [
        {
          "output_type": "stream",
          "text": [
            "<class 'pandas.core.frame.DataFrame'>\n",
            "RangeIndex: 36 entries, 0 to 35\n",
            "Data columns (total 2 columns):\n",
            " #   Column       Non-Null Count  Dtype  \n",
            "---  ------       --------------  -----  \n",
            " 0   Sales        36 non-null     float64\n",
            " 1   Advertising  36 non-null     int64  \n",
            "dtypes: float64(1), int64(1)\n",
            "memory usage: 704.0 bytes\n",
            "None\n"
          ],
          "name": "stdout"
        }
      ]
    },
    {
      "cell_type": "code",
      "metadata": {
        "id": "cNX7Xc5UH7x5",
        "colab": {
          "base_uri": "https://localhost:8080/"
        },
        "outputId": "612e8d05-f089-486b-b4d0-db01256aafdc"
      },
      "source": [
        "# View descriptive statistics\n",
        "\n",
        "print(df.describe())"
      ],
      "execution_count": null,
      "outputs": [
        {
          "output_type": "stream",
          "text": [
            "           Sales  Advertising\n",
            "count  36.000000    36.000000\n",
            "mean   24.241667    28.527778\n",
            "std     6.205867    18.777625\n",
            "min    12.000000     1.000000\n",
            "25%    20.300000    15.750000\n",
            "50%    24.250000    23.000000\n",
            "75%    28.600000    41.000000\n",
            "max    36.500000    65.000000\n"
          ],
          "name": "stdout"
        }
      ]
    },
    {
      "cell_type": "code",
      "metadata": {
        "id": "KSm22tkwH7x6"
      },
      "source": [
        "# Declare feature variable and target variable\n",
        "\n",
        "X = df['Sales'].values\n",
        "y = df['Advertising'].values\n",
        "\n",
        "# Sales and Advertising data values are given by X and y respectively.\n",
        "\n",
        "# Values attribute of pandas dataframe returns the numpy arrays."
      ],
      "execution_count": null,
      "outputs": []
    },
    {
      "cell_type": "code",
      "metadata": {
        "id": "zFcClobEH7x6",
        "colab": {
          "base_uri": "https://localhost:8080/",
          "height": 295
        },
        "outputId": "c0d654d0-cc9a-4319-af8f-6de9a2f6ac0f"
      },
      "source": [
        "# Plot scatter plot between X and y\n",
        "\n",
        "plt.scatter(X, y, color = 'blue', label='Scatter Plot')\n",
        "plt.title('Relationship between Sales and Advertising')\n",
        "plt.xlabel('Sales')\n",
        "plt.ylabel('Advertising')\n",
        "plt.legend(loc=4)\n",
        "plt.show()"
      ],
      "execution_count": null,
      "outputs": [
        {
          "output_type": "display_data",
          "data": {
            "image/png": "[encoded data removed]",
            "text/plain": [
              "<Figure size 432x288 with 1 Axes>"
            ]
          },
          "metadata": {
            "tags": [],
            "needs_background": "light"
          }
        }
      ]
    },
    {
      "cell_type": "code",
      "metadata": {
        "id": "734-gru5H7x7",
        "colab": {
          "base_uri": "https://localhost:8080/"
        },
        "outputId": "020d71c5-17fe-4479-be3a-f3c029f89ce0"
      },
      "source": [
        "# Print the dimensions of X and y\n",
        "\n",
        "print(X.shape)\n",
        "print(y.shape)"
      ],
      "execution_count": null,
      "outputs": [
        {
          "output_type": "stream",
          "text": [
            "(36,)\n",
            "(36,)\n"
          ],
          "name": "stdout"
        }
      ]
    },
    {
      "cell_type": "code",
      "metadata": {
        "id": "oiN9uUlEH7x8"
      },
      "source": [
        "# Reshape X and y\n",
        "\n",
        "X = X.reshape(-1,1)\n",
        "y = y.reshape(-1,1)\n"
      ],
      "execution_count": null,
      "outputs": []
    },
    {
      "cell_type": "code",
      "metadata": {
        "id": "TGDnessNH7x8",
        "colab": {
          "base_uri": "https://localhost:8080/"
        },
        "outputId": "7a50fa1a-c4f8-44a3-e6a0-0f9692f06566"
      },
      "source": [
        "# Print the dimensions of X and y after reshaping\n",
        "\n",
        "print(X.shape)\n",
        "print(y.shape)\n"
      ],
      "execution_count": null,
      "outputs": [
        {
          "output_type": "stream",
          "text": [
            "(36, 1)\n",
            "(36, 1)\n"
          ],
          "name": "stdout"
        }
      ]
    },
    {
      "cell_type": "code",
      "metadata": {
        "id": "2bbyV7_cH7x9"
      },
      "source": [
        "# Split X and y into training and test data sets\n",
        "\n",
        "from sklearn.model_selection import train_test_split\n",
        "X_train,X_test,y_train,y_test = train_test_split(X, y, test_size=0.33, random_state=42)\n",
        "\n"
      ],
      "execution_count": null,
      "outputs": []
    },
    {
      "cell_type": "code",
      "metadata": {
        "id": "WbFa0cBvH7x9",
        "colab": {
          "base_uri": "https://localhost:8080/"
        },
        "outputId": "ae408099-bbc5-40a1-8565-ce64f562b774"
      },
      "source": [
        "# Print the dimensions of X_train,X_test,y_train,y_test\n",
        "\n",
        "print(X_train.shape)\n",
        "print(y_train.shape)\n",
        "print(X_test.shape)\n",
        "print(y_test.shape)"
      ],
      "execution_count": null,
      "outputs": [
        {
          "output_type": "stream",
          "text": [
            "(24, 1)\n",
            "(24, 1)\n",
            "(12, 1)\n",
            "(12, 1)\n"
          ],
          "name": "stdout"
        }
      ]
    },
    {
      "cell_type": "code",
      "metadata": {
        "id": "s66AHap7H7x-"
      },
      "source": [
        "# Fit the linear model\n",
        "\n",
        "# Instantiate the linear regression object lm\n",
        "from sklearn.linear_model import LinearRegression\n",
        "lm = LinearRegression()\n",
        "\n",
        "\n",
        "# Train the model using training data sets\n",
        "lm.fit(X_train,y_train)\n",
        "\n",
        "\n",
        "# Predict on the test data\n",
        "y_pred=lm.predict(X_test)"
      ],
      "execution_count": null,
      "outputs": []
    },
    {
      "cell_type": "code",
      "metadata": {
        "id": "vsB5CA9XH7x-",
        "colab": {
          "base_uri": "https://localhost:8080/"
        },
        "outputId": "c74d2743-8ca0-49a1-91e3-ef57c26cb861"
      },
      "source": [
        "# Compute model slope and intercept\n",
        "\n",
        "a = lm.coef_\n",
        "b = lm.intercept_,\n",
        "print(\"Estimated model slope, a:\" , a)\n",
        "print(\"Estimated model intercept, b:\" , b) \n"
      ],
      "execution_count": null,
      "outputs": [
        {
          "output_type": "stream",
          "text": [
            "Estimated model slope, a: [[1.59091774]]\n",
            "Estimated model intercept, b: (array([-10.79281735]),)\n"
          ],
          "name": "stdout"
        }
      ]
    },
    {
      "cell_type": "code",
      "metadata": {
        "id": "AFL0dPKkH7x_"
      },
      "source": [
        "# So, our fitted regression line is \n",
        "\n",
        "# y = 1.60509347 * x - 11.16003616 \n",
        "\n",
        "# That is our linear model."
      ],
      "execution_count": null,
      "outputs": []
    },
    {
      "cell_type": "code",
      "metadata": {
        "id": "qHnO6aP9H7x_",
        "colab": {
          "base_uri": "https://localhost:8080/"
        },
        "outputId": "7f359d81-39ef-40ba-c3e0-c8666a3dba24"
      },
      "source": [
        "# Predicting Advertising values\n",
        "\n",
        "lm.predict(X)[0:5]\n",
        "\n",
        "# Predicting Advertising values on first five Sales values."
      ],
      "execution_count": null,
      "outputs": [
        {
          "output_type": "execute_result",
          "data": {
            "text/plain": [
              "array([[ 8.29819556],\n",
              "       [21.82099638],\n",
              "       [22.61645525],\n",
              "       [13.07094879],\n",
              "       [13.54822411]])"
            ]
          },
          "metadata": {
            "tags": []
          },
          "execution_count": 64
        }
      ]
    },
    {
      "cell_type": "code",
      "metadata": {
        "id": "lGVtE3N4H7yA",
        "colab": {
          "base_uri": "https://localhost:8080/"
        },
        "outputId": "b6c9d6dd-046f-41aa-ff9b-bf7045058e62"
      },
      "source": [
        "# To make an individual prediction using the linear regression model.\n",
        "arr=np.zeros((1,1))\n",
        "arr[0][0]=24\n",
        "print(str(lm.predict(arr)))"
      ],
      "execution_count": null,
      "outputs": [
        {
          "output_type": "stream",
          "text": [
            "[[27.38920847]]\n"
          ],
          "name": "stdout"
        }
      ]
    },
    {
      "cell_type": "code",
      "metadata": {
        "id": "ezRiyHlEH7yA",
        "colab": {
          "base_uri": "https://localhost:8080/"
        },
        "outputId": "a5163309-b2f0-41f9-828f-ebe08f7c9f8c"
      },
      "source": [
        "# Calculate and print Root Mean Square Error(RMSE)\n",
        "\n",
        "from sklearn.metrics import mean_squared_error\n",
        "mse = mean_squared_error(y_test, y_pred)\n",
        "rmse = np.sqrt(mse)\n",
        "print(\"RMSE value: {:.4f}\".format(rmse))\n"
      ],
      "execution_count": null,
      "outputs": [
        {
          "output_type": "stream",
          "text": [
            "RMSE value: 11.2664\n"
          ],
          "name": "stdout"
        }
      ]
    },
    {
      "cell_type": "code",
      "metadata": {
        "id": "poeych8BH7yB",
        "colab": {
          "base_uri": "https://localhost:8080/"
        },
        "outputId": "6b5c8174-5b99-466e-af92-1a116449aa55"
      },
      "source": [
        "# Calculate and print r2_score\n",
        "\n",
        "from sklearn.metrics import r2_score\n",
        "print (\"R2 Score value: {:.4f}\".format(r2_score(y_test, y_pred)))\n"
      ],
      "execution_count": null,
      "outputs": [
        {
          "output_type": "stream",
          "text": [
            "R2 Score value: 0.5760\n"
          ],
          "name": "stdout"
        }
      ]
    },
    {
      "cell_type": "code",
      "metadata": {
        "id": "567FDZHcH7yB",
        "colab": {
          "base_uri": "https://localhost:8080/",
          "height": 295
        },
        "outputId": "6afe0e8b-3183-4ad1-a1bf-cdae50dca127"
      },
      "source": [
        "# Plot the Regression Line\n",
        "\n",
        "\n",
        "plt.scatter(X, y, color = 'blue', label='Scatter Plot')\n",
        "plt.plot(X_test, y_pred, color = 'black', linewidth=3, label = 'Regression Line')\n",
        "plt.title('Relationship between Sales and Advertising')\n",
        "plt.xlabel('Sales')\n",
        "plt.ylabel('Advertising')\n",
        "plt.legend(loc=4)\n",
        "plt.show()\n"
      ],
      "execution_count": null,
      "outputs": [
        {
          "output_type": "display_data",
          "data": {
            "image/png": "[encoded data removed]",
            "text/plain": [
              "<Figure size 432x288 with 1 Axes>"
            ]
          },
          "metadata": {
            "tags": [],
            "needs_background": "light"
          }
        }
      ]
    },
    {
      "cell_type": "code",
      "metadata": {
        "id": "VPY58jhVH7yC",
        "colab": {
          "base_uri": "https://localhost:8080/",
          "height": 281
        },
        "outputId": "64cdf636-8a66-4ef1-8f89-02df914cac35"
      },
      "source": [
        "# Plotting residual errors\n",
        "\n",
        "plt.scatter(lm.predict(X_train), lm.predict(X_train) - y_train, color = 'red', label = 'Train data')\n",
        "plt.scatter(lm.predict(X_test), lm.predict(X_test) - y_test, color = 'blue', label = 'Test data')\n",
        "plt.hlines(xmin = 0, xmax = 50, y = 0, linewidth = 3)\n",
        "plt.title('Residual errors')\n",
        "plt.legend(loc = 4)\n",
        "plt.show()"
      ],
      "execution_count": null,
      "outputs": [
        {
          "output_type": "display_data",
          "data": {
            "image/png": "[encoded data removed]",
            "text/plain": [
              "<Figure size 432x288 with 1 Axes>"
            ]
          },
          "metadata": {
            "tags": [],
            "needs_background": "light"
          }
        }
      ]
    },
    {
      "cell_type": "code",
      "metadata": {
        "id": "hq6m6HzKH7yD",
        "colab": {
          "base_uri": "https://localhost:8080/"
        },
        "outputId": "e3815bd1-6e98-4330-ce23-490952cca1f5"
      },
      "source": [
        "# Checking for Overfitting or Underfitting the data\n",
        "\n",
        "print(\"Training set score: {:.4f}\".format(lm.score(X_train,y_train)))\n",
        "\n",
        "print(\"Test set score: {:.4f}\".format(lm.score(X_test,y_test)))"
      ],
      "execution_count": null,
      "outputs": [
        {
          "output_type": "stream",
          "text": [
            "Training set score: 0.2836\n",
            "Test set score: 0.5760\n"
          ],
          "name": "stdout"
        }
      ]
    },
    {
      "cell_type": "code",
      "metadata": {
        "id": "1Vv8iDa9H7yD",
        "colab": {
          "base_uri": "https://localhost:8080/"
        },
        "outputId": "50a0adc8-bf53-4cef-c1e6-dc4f5b5b6cd6"
      },
      "source": [
        "# Save model for future use\n",
        "\n",
        "from sklearn.externals import joblib\n",
        "joblib.dump(lm, 'lm_regressor.pkl')\n",
        "\n",
        "# To load the model\n",
        "\n",
        "# lm2=joblib.load('lm_regressor.pkl')"
      ],
      "execution_count": null,
      "outputs": [
        {
          "output_type": "stream",
          "text": [
            "/usr/local/lib/python3.7/dist-packages/sklearn/externals/joblib/__init__.py:15: FutureWarning: sklearn.externals.joblib is deprecated in 0.21 and will be removed in 0.23. Please import this functionality directly from joblib, which can be installed with: pip install joblib. If this warning is raised when loading pickled models, you may need to re-serialize those models with scikit-learn 0.21+.\n",
            "  warnings.warn(msg, category=FutureWarning)\n"
          ],
          "name": "stderr"
        },
        {
          "output_type": "execute_result",
          "data": {
            "text/plain": [
              "['lm_regressor.pkl']"
            ]
          },
          "metadata": {
            "tags": []
          },
          "execution_count": 73
        }
      ]
    }
  ]
}